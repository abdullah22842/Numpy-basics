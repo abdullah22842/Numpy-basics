{
 "cells": [
  {
   "cell_type": "raw",
   "id": "289c8a21",
   "metadata": {},
   "source": [
    "# Numpy\n",
    "#The NumPy library is the core library for scientific computing in Python. It provides a high-performance multidimensional #array object, and tools for working with these arrays."
   ]
  },
  {
   "cell_type": "code",
   "execution_count": 75,
   "id": "2c066d02",
   "metadata": {},
   "outputs": [],
   "source": [
    "import numpy as np\n"
   ]
  },
  {
   "cell_type": "raw",
   "id": "ee3a3e9c",
   "metadata": {},
   "source": [
    "# Creating Arrays"
   ]
  },
  {
   "cell_type": "code",
   "execution_count": 76,
   "id": "ccfe756e",
   "metadata": {},
   "outputs": [
    {
     "name": "stdout",
     "output_type": "stream",
     "text": [
      "[3 4 5 6]\n"
     ]
    }
   ],
   "source": [
    "A=np.array([3,4,5,6])\n",
    "print(A)"
   ]
  },
  {
   "cell_type": "code",
   "execution_count": 77,
   "id": "fe080b15",
   "metadata": {},
   "outputs": [
    {
     "name": "stdout",
     "output_type": "stream",
     "text": [
      "[[ 2.  4.  5. 70.]\n",
      " [94.  5.  6.  3.]]\n"
     ]
    }
   ],
   "source": [
    "B=np.array([(2,4,5,70),(94,5,6,3)], dtype=float)\n",
    "print(B)"
   ]
  },
  {
   "cell_type": "raw",
   "id": "05e31a73",
   "metadata": {},
   "source": [
    "# Data Types"
   ]
  },
  {
   "cell_type": "raw",
   "id": "3a8364f8",
   "metadata": {},
   "source": [
    "np.int64   #Signed 64-bit integer types\n",
    "np.float32 #Standard double-precision floating point\n",
    "np.complex #Complex numbers represented by 128 floats\n",
    "np.bool    #Boolean type storing TRUE and FALSE values\n",
    "np.object  #Python object type\n",
    "np.string_ #Fixed-length string type\n",
    "np.unicode_ #Fixed-length unicode type"
   ]
  },
  {
   "cell_type": "raw",
   "id": "03ff2854",
   "metadata": {},
   "source": [
    "# Initial Placeholders"
   ]
  },
  {
   "cell_type": "code",
   "execution_count": 78,
   "id": "35d2b884",
   "metadata": {},
   "outputs": [
    {
     "data": {
      "text/plain": [
       "array([[0., 0., 0., 0., 0.],\n",
       "       [0., 0., 0., 0., 0.],\n",
       "       [0., 0., 0., 0., 0.],\n",
       "       [0., 0., 0., 0., 0.]])"
      ]
     },
     "execution_count": 78,
     "metadata": {},
     "output_type": "execute_result"
    }
   ],
   "source": [
    "np.zeros((4,5))  #Create an array of zeros"
   ]
  },
  {
   "cell_type": "code",
   "execution_count": 79,
   "id": "87dbec37",
   "metadata": {},
   "outputs": [
    {
     "data": {
      "text/plain": [
       "array([[[1, 1, 1, 1, 1, 1],\n",
       "        [1, 1, 1, 1, 1, 1],\n",
       "        [1, 1, 1, 1, 1, 1]],\n",
       "\n",
       "       [[1, 1, 1, 1, 1, 1],\n",
       "        [1, 1, 1, 1, 1, 1],\n",
       "        [1, 1, 1, 1, 1, 1]]], dtype=int64)"
      ]
     },
     "execution_count": 79,
     "metadata": {},
     "output_type": "execute_result"
    }
   ],
   "source": [
    "np.ones((2,3,6),dtype=np.int64)   #Create an array of ones"
   ]
  },
  {
   "cell_type": "code",
   "execution_count": 80,
   "id": "abf2e06b",
   "metadata": {},
   "outputs": [
    {
     "data": {
      "text/plain": [
       "array([25, 30, 35, 40, 45])"
      ]
     },
     "execution_count": 80,
     "metadata": {},
     "output_type": "execute_result"
    }
   ],
   "source": [
    "np.arange(25, 50,5)             ## Create an array of evenly spaced values (step value) "
   ]
  },
  {
   "cell_type": "code",
   "execution_count": 81,
   "id": "b88f6a55",
   "metadata": {},
   "outputs": [
    {
     "data": {
      "text/plain": [
       "array([3.  , 3.75, 4.5 , 5.25, 6.  ])"
      ]
     },
     "execution_count": 81,
     "metadata": {},
     "output_type": "execute_result"
    }
   ],
   "source": [
    "np.linspace(3,6,5)    #Create an array of evenly spaced values (number of samples)"
   ]
  },
  {
   "cell_type": "code",
   "execution_count": 82,
   "id": "c3b5a798",
   "metadata": {},
   "outputs": [
    {
     "data": {
      "text/plain": [
       "array([[8, 8, 8, 8, 8],\n",
       "       [8, 8, 8, 8, 8],\n",
       "       [8, 8, 8, 8, 8]])"
      ]
     },
     "execution_count": 82,
     "metadata": {},
     "output_type": "execute_result"
    }
   ],
   "source": [
    "np.full((3,5),8)    # Create a constant array"
   ]
  },
  {
   "cell_type": "code",
   "execution_count": 83,
   "id": "ecd3b7c2",
   "metadata": {},
   "outputs": [
    {
     "data": {
      "text/plain": [
       "array([[1., 0., 0., 0.],\n",
       "       [0., 1., 0., 0.],\n",
       "       [0., 0., 1., 0.],\n",
       "       [0., 0., 0., 1.]])"
      ]
     },
     "execution_count": 83,
     "metadata": {},
     "output_type": "execute_result"
    }
   ],
   "source": [
    "np.eye(4)      #Create a 2X2 identity matrix"
   ]
  },
  {
   "cell_type": "code",
   "execution_count": 152,
   "id": "0b2f2905",
   "metadata": {},
   "outputs": [
    {
     "data": {
      "text/plain": [
       "array([[8.29511426e-312, 2.47032823e-322, 0.00000000e+000,\n",
       "        0.00000000e+000, 0.00000000e+000, 4.47032019e-038],\n",
       "       [5.58769867e-091, 1.53404710e-075, 4.31983632e-038,\n",
       "        1.12983193e-042, 3.99910963e+252, 5.82471487e+257]])"
      ]
     },
     "execution_count": 152,
     "metadata": {},
     "output_type": "execute_result"
    }
   ],
   "source": [
    "np.empty((2,6))       #Create an empty array"
   ]
  },
  {
   "cell_type": "code",
   "execution_count": 85,
   "id": "4ac6cb3e",
   "metadata": {},
   "outputs": [
    {
     "data": {
      "text/plain": [
       "array([[0.23804742, 0.49524621, 0.00101303, 0.1712155 , 0.36445478],\n",
       "       [0.03180401, 0.08312222, 0.55795751, 0.07554252, 0.10658902],\n",
       "       [0.15049364, 0.09510766, 0.43395252, 0.92143247, 0.48973891],\n",
       "       [0.54161214, 0.96554018, 0.71070104, 0.94755594, 0.54160963],\n",
       "       [0.60205397, 0.09587646, 0.01642548, 0.54507543, 0.52542772]])"
      ]
     },
     "execution_count": 85,
     "metadata": {},
     "output_type": "execute_result"
    }
   ],
   "source": [
    "np.random.random((5,5))    #Create an array with random values"
   ]
  },
  {
   "cell_type": "raw",
   "id": "b093ab9b",
   "metadata": {},
   "source": [
    "# Asking For Help"
   ]
  },
  {
   "cell_type": "code",
   "execution_count": 86,
   "id": "d34561dc",
   "metadata": {
    "scrolled": true
   },
   "outputs": [
    {
     "name": "stdout",
     "output_type": "stream",
     "text": [
      "Data-type of the array's elements.\n",
      "\n",
      "Parameters\n",
      "----------\n",
      "None\n",
      "\n",
      "Returns\n",
      "-------\n",
      "d : numpy dtype object\n",
      "\n",
      "See Also\n",
      "--------\n",
      "numpy.dtype\n",
      "\n",
      "Examples\n",
      "--------\n",
      ">>> x\n",
      "array([[0, 1],\n",
      "       [2, 3]])\n",
      ">>> x.dtype\n",
      "dtype('int32')\n",
      ">>> type(x.dtype)\n",
      "<type 'numpy.dtype'>\n"
     ]
    }
   ],
   "source": [
    "np.info(np.ndarray.dtype)"
   ]
  },
  {
   "cell_type": "raw",
   "id": "04a9c1e0",
   "metadata": {},
   "source": [
    "# Inspecting Your Array"
   ]
  },
  {
   "cell_type": "code",
   "execution_count": 87,
   "id": "91fcd125",
   "metadata": {},
   "outputs": [
    {
     "data": {
      "text/plain": [
       "(4,)"
      ]
     },
     "execution_count": 87,
     "metadata": {},
     "output_type": "execute_result"
    }
   ],
   "source": [
    "A.shape #Array dimensions"
   ]
  },
  {
   "cell_type": "code",
   "execution_count": 88,
   "id": "6a09561e",
   "metadata": {},
   "outputs": [
    {
     "data": {
      "text/plain": [
       "1"
      ]
     },
     "execution_count": 88,
     "metadata": {},
     "output_type": "execute_result"
    }
   ],
   "source": [
    "A.ndim    #Number of array dimensions"
   ]
  },
  {
   "cell_type": "code",
   "execution_count": 89,
   "id": "2086a0f7",
   "metadata": {},
   "outputs": [
    {
     "data": {
      "text/plain": [
       "4"
      ]
     },
     "execution_count": 89,
     "metadata": {},
     "output_type": "execute_result"
    }
   ],
   "source": [
    "len(A)       #Length of array"
   ]
  },
  {
   "cell_type": "code",
   "execution_count": 90,
   "id": "a4a24ff5",
   "metadata": {},
   "outputs": [
    {
     "data": {
      "text/plain": [
       "4"
      ]
     },
     "execution_count": 90,
     "metadata": {},
     "output_type": "execute_result"
    }
   ],
   "source": [
    "A.size          #Number of array elements"
   ]
  },
  {
   "cell_type": "code",
   "execution_count": 91,
   "id": "36e14c22",
   "metadata": {},
   "outputs": [
    {
     "data": {
      "text/plain": [
       "dtype('int32')"
      ]
     },
     "execution_count": 91,
     "metadata": {},
     "output_type": "execute_result"
    }
   ],
   "source": [
    "A.dtype            #Data type of array elements"
   ]
  },
  {
   "cell_type": "code",
   "execution_count": 92,
   "id": "67f692b4",
   "metadata": {},
   "outputs": [
    {
     "data": {
      "text/plain": [
       "array([3., 4., 5., 6.])"
      ]
     },
     "execution_count": 92,
     "metadata": {},
     "output_type": "execute_result"
    }
   ],
   "source": [
    "A.astype(float)     #Convert an array to a different type"
   ]
  },
  {
   "cell_type": "raw",
   "id": "4aad9575",
   "metadata": {},
   "source": [
    "# Arithmetic Operations"
   ]
  },
  {
   "cell_type": "code",
   "execution_count": 93,
   "id": "699ffb16",
   "metadata": {},
   "outputs": [
    {
     "name": "stdout",
     "output_type": "stream",
     "text": [
      "[[  1.   0.   0. -64.]\n",
      " [-91.  -1.  -1.   3.]]\n"
     ]
    }
   ],
   "source": [
    "G=A-B    #Subtraction\n",
    "print(G)"
   ]
  },
  {
   "cell_type": "code",
   "execution_count": 94,
   "id": "28c7d1fa",
   "metadata": {},
   "outputs": [
    {
     "data": {
      "text/plain": [
       "array([[  1.,   0.,   0., -64.],\n",
       "       [-91.,  -1.,  -1.,   3.]])"
      ]
     },
     "execution_count": 94,
     "metadata": {},
     "output_type": "execute_result"
    }
   ],
   "source": [
    "np.subtract(A,B)    #Subtraction"
   ]
  },
  {
   "cell_type": "code",
   "execution_count": 95,
   "id": "971ccb37",
   "metadata": {},
   "outputs": [
    {
     "data": {
      "text/plain": [
       "array([[ 5.,  8., 10., 76.],\n",
       "       [97.,  9., 11.,  9.]])"
      ]
     },
     "execution_count": 95,
     "metadata": {},
     "output_type": "execute_result"
    }
   ],
   "source": [
    "A+B    #Addition"
   ]
  },
  {
   "cell_type": "code",
   "execution_count": 96,
   "id": "70345416",
   "metadata": {},
   "outputs": [
    {
     "data": {
      "text/plain": [
       "array([[ 5.,  8., 10., 76.],\n",
       "       [97.,  9., 11.,  9.]])"
      ]
     },
     "execution_count": 96,
     "metadata": {},
     "output_type": "execute_result"
    }
   ],
   "source": [
    "np.add(A,B)                  #Addition"
   ]
  },
  {
   "cell_type": "code",
   "execution_count": 97,
   "id": "df231e2f",
   "metadata": {},
   "outputs": [
    {
     "data": {
      "text/plain": [
       "array([[1.5       , 1.        , 1.        , 0.08571429],\n",
       "       [0.03191489, 0.8       , 0.83333333, 2.        ]])"
      ]
     },
     "execution_count": 97,
     "metadata": {},
     "output_type": "execute_result"
    }
   ],
   "source": [
    "A/B                         #Division"
   ]
  },
  {
   "cell_type": "code",
   "execution_count": 98,
   "id": "b05aa5fb",
   "metadata": {},
   "outputs": [
    {
     "data": {
      "text/plain": [
       "array([[1.5       , 1.        , 1.        , 0.08571429],\n",
       "       [0.03191489, 0.8       , 0.83333333, 2.        ]])"
      ]
     },
     "execution_count": 98,
     "metadata": {},
     "output_type": "execute_result"
    }
   ],
   "source": [
    "np.divide(A,B)                #Division"
   ]
  },
  {
   "cell_type": "code",
   "execution_count": 99,
   "id": "43f3d009",
   "metadata": {},
   "outputs": [
    {
     "data": {
      "text/plain": [
       "array([[  6.,  16.,  25., 420.],\n",
       "       [282.,  20.,  30.,  18.]])"
      ]
     },
     "execution_count": 99,
     "metadata": {},
     "output_type": "execute_result"
    }
   ],
   "source": [
    "A*B                           #Multiplication"
   ]
  },
  {
   "cell_type": "code",
   "execution_count": 100,
   "id": "140b6e28",
   "metadata": {},
   "outputs": [
    {
     "data": {
      "text/plain": [
       "array([[  6.,  16.,  25., 420.],\n",
       "       [282.,  20.,  30.,  18.]])"
      ]
     },
     "execution_count": 100,
     "metadata": {},
     "output_type": "execute_result"
    }
   ],
   "source": [
    "np.multiply(A,B)                    #Multipilication"
   ]
  },
  {
   "cell_type": "code",
   "execution_count": 101,
   "id": "52e7755b",
   "metadata": {},
   "outputs": [
    {
     "data": {
      "text/plain": [
       "array([[7.38905610e+00, 5.45981500e+01, 1.48413159e+02, 2.51543867e+30],\n",
       "       [6.66317622e+40, 1.48413159e+02, 4.03428793e+02, 2.00855369e+01]])"
      ]
     },
     "execution_count": 101,
     "metadata": {},
     "output_type": "execute_result"
    }
   ],
   "source": [
    "np.exp(B)                                #Exponentiation"
   ]
  },
  {
   "cell_type": "code",
   "execution_count": 102,
   "id": "4808379c",
   "metadata": {},
   "outputs": [
    {
     "data": {
      "text/plain": [
       "array([[1.41421356, 2.        , 2.23606798, 8.36660027],\n",
       "       [9.69535971, 2.23606798, 2.44948974, 1.73205081]])"
      ]
     },
     "execution_count": 102,
     "metadata": {},
     "output_type": "execute_result"
    }
   ],
   "source": [
    "np.sqrt(B)                         #Square root"
   ]
  },
  {
   "cell_type": "code",
   "execution_count": 103,
   "id": "95da3649",
   "metadata": {},
   "outputs": [
    {
     "data": {
      "text/plain": [
       "array([[ 0.90929743, -0.7568025 , -0.95892427,  0.77389068],\n",
       "       [-0.24525199, -0.95892427, -0.2794155 ,  0.14112001]])"
      ]
     },
     "execution_count": 103,
     "metadata": {},
     "output_type": "execute_result"
    }
   ],
   "source": [
    "np.sin(B)                          #Print sines of an array"
   ]
  },
  {
   "cell_type": "code",
   "execution_count": 104,
   "id": "c2a20e88",
   "metadata": {},
   "outputs": [
    {
     "data": {
      "text/plain": [
       "array([[-0.41614684, -0.65364362,  0.28366219,  0.6333192 ],\n",
       "       [ 0.96945937,  0.28366219,  0.96017029, -0.9899925 ]])"
      ]
     },
     "execution_count": 104,
     "metadata": {},
     "output_type": "execute_result"
    }
   ],
   "source": [
    "np.cos(B)                        #Element-wise cosine "
   ]
  },
  {
   "cell_type": "code",
   "execution_count": 105,
   "id": "87776a57",
   "metadata": {},
   "outputs": [
    {
     "data": {
      "text/plain": [
       "array([[0.69314718, 1.38629436, 1.60943791, 4.24849524],\n",
       "       [4.54329478, 1.60943791, 1.79175947, 1.09861229]])"
      ]
     },
     "execution_count": 105,
     "metadata": {},
     "output_type": "execute_result"
    }
   ],
   "source": [
    "np.log(B)                      #Element-wise natural logarithm"
   ]
  },
  {
   "cell_type": "raw",
   "id": "27c6ebcf",
   "metadata": {},
   "source": [
    "# Comparison"
   ]
  },
  {
   "cell_type": "code",
   "execution_count": 106,
   "id": "25ff7977",
   "metadata": {},
   "outputs": [
    {
     "data": {
      "text/plain": [
       "array([[False,  True,  True, False],\n",
       "       [False, False, False, False]])"
      ]
     },
     "execution_count": 106,
     "metadata": {},
     "output_type": "execute_result"
    }
   ],
   "source": [
    "A==B      #Element wise comparison"
   ]
  },
  {
   "cell_type": "code",
   "execution_count": 107,
   "id": "49d9b33a",
   "metadata": {},
   "outputs": [
    {
     "data": {
      "text/plain": [
       "array([[False,  True,  True,  True],\n",
       "       [ True,  True,  True, False]])"
      ]
     },
     "execution_count": 107,
     "metadata": {},
     "output_type": "execute_result"
    }
   ],
   "source": [
    "B > 3    #Element-wise comparison"
   ]
  },
  {
   "cell_type": "code",
   "execution_count": 108,
   "id": "d7ed8575",
   "metadata": {},
   "outputs": [
    {
     "data": {
      "text/plain": [
       "False"
      ]
     },
     "execution_count": 108,
     "metadata": {},
     "output_type": "execute_result"
    }
   ],
   "source": [
    "np.array_equal(A, B) #Array-wise comparison"
   ]
  },
  {
   "cell_type": "raw",
   "id": "aa73ff6d",
   "metadata": {},
   "source": [
    "# Aggregate Functions"
   ]
  },
  {
   "cell_type": "code",
   "execution_count": 109,
   "id": "ff3d98f3",
   "metadata": {},
   "outputs": [
    {
     "data": {
      "text/plain": [
       "18"
      ]
     },
     "execution_count": 109,
     "metadata": {},
     "output_type": "execute_result"
    }
   ],
   "source": [
    "\n",
    "A.sum() #Array-wise sum"
   ]
  },
  {
   "cell_type": "code",
   "execution_count": 110,
   "id": "9166081b",
   "metadata": {},
   "outputs": [
    {
     "data": {
      "text/plain": [
       "6"
      ]
     },
     "execution_count": 110,
     "metadata": {},
     "output_type": "execute_result"
    }
   ],
   "source": [
    "A.max(axis=0) #Maximum value of an array row"
   ]
  },
  {
   "cell_type": "code",
   "execution_count": 111,
   "id": "dcc25e2a",
   "metadata": {},
   "outputs": [
    {
     "data": {
      "text/plain": [
       "2.0"
      ]
     },
     "execution_count": 111,
     "metadata": {},
     "output_type": "execute_result"
    }
   ],
   "source": [
    "B.min() #Array-wise minimum value"
   ]
  },
  {
   "cell_type": "code",
   "execution_count": 112,
   "id": "440fc194",
   "metadata": {},
   "outputs": [
    {
     "data": {
      "text/plain": [
       "array([[  2.,   6.,  11.,  81.],\n",
       "       [ 94.,  99., 105., 108.]])"
      ]
     },
     "execution_count": 112,
     "metadata": {},
     "output_type": "execute_result"
    }
   ],
   "source": [
    "B.cumsum(axis=1) #Cumulative sum of the elements"
   ]
  },
  {
   "cell_type": "code",
   "execution_count": 113,
   "id": "0c58a71f",
   "metadata": {},
   "outputs": [
    {
     "data": {
      "text/plain": [
       "23.625"
      ]
     },
     "execution_count": 113,
     "metadata": {},
     "output_type": "execute_result"
    }
   ],
   "source": [
    "B.mean() #Mean"
   ]
  },
  {
   "cell_type": "code",
   "execution_count": 114,
   "id": "4370ae6e",
   "metadata": {},
   "outputs": [
    {
     "data": {
      "text/plain": [
       "4.5"
      ]
     },
     "execution_count": 114,
     "metadata": {},
     "output_type": "execute_result"
    }
   ],
   "source": [
    "np.median(A) #Median"
   ]
  },
  {
   "cell_type": "code",
   "execution_count": 115,
   "id": "b3e6dfef",
   "metadata": {},
   "outputs": [
    {
     "data": {
      "text/plain": [
       "1.0"
      ]
     },
     "execution_count": 115,
     "metadata": {},
     "output_type": "execute_result"
    }
   ],
   "source": [
    "np.corrcoef(A) #Correlation coefficient"
   ]
  },
  {
   "cell_type": "code",
   "execution_count": 116,
   "id": "d0f9a62b",
   "metadata": {},
   "outputs": [
    {
     "data": {
      "text/plain": [
       "34.25250903218624"
      ]
     },
     "execution_count": 116,
     "metadata": {},
     "output_type": "execute_result"
    }
   ],
   "source": [
    "np.std(B) #Standard deviation"
   ]
  },
  {
   "cell_type": "raw",
   "id": "a145f15c",
   "metadata": {},
   "source": [
    "# Copying Arrays"
   ]
  },
  {
   "cell_type": "code",
   "execution_count": 117,
   "id": "ba4739a7",
   "metadata": {},
   "outputs": [
    {
     "name": "stdout",
     "output_type": "stream",
     "text": [
      "[[ 2.  4.  5. 70.]\n",
      " [94.  5.  6.  3.]]\n"
     ]
    }
   ],
   "source": [
    "h = B.view()   #Create a view of the array with the same data\n",
    "print(h)"
   ]
  },
  {
   "cell_type": "code",
   "execution_count": 118,
   "id": "aac853e5",
   "metadata": {},
   "outputs": [
    {
     "name": "stdout",
     "output_type": "stream",
     "text": [
      "[[ 2.  4.  5. 70.]\n",
      " [94.  5.  6.  3.]]\n"
     ]
    }
   ],
   "source": [
    "C=np.copy(B) #Create a copy of the array\n",
    "print(C)"
   ]
  },
  {
   "cell_type": "code",
   "execution_count": 119,
   "id": "7df7901c",
   "metadata": {},
   "outputs": [
    {
     "name": "stdout",
     "output_type": "stream",
     "text": [
      "[3 4 5 6]\n"
     ]
    }
   ],
   "source": [
    "f = A.copy() #Create a deep copy of the array\n",
    "print(f)"
   ]
  },
  {
   "cell_type": "raw",
   "id": "17afb337",
   "metadata": {},
   "source": [
    "# Sorting Arrays"
   ]
  },
  {
   "cell_type": "code",
   "execution_count": 120,
   "id": "1d0c8844",
   "metadata": {},
   "outputs": [],
   "source": [
    "A.sort()  #Sort an array"
   ]
  },
  {
   "cell_type": "code",
   "execution_count": 121,
   "id": "7f780ebe",
   "metadata": {},
   "outputs": [],
   "source": [
    "C.sort(axis=0)  #Sort the elements of an array's axis"
   ]
  },
  {
   "cell_type": "raw",
   "id": "bf91485e",
   "metadata": {},
   "source": [
    "# Subsetting"
   ]
  },
  {
   "cell_type": "code",
   "execution_count": 122,
   "id": "fecd8e51",
   "metadata": {},
   "outputs": [
    {
     "data": {
      "text/plain": [
       "6"
      ]
     },
     "execution_count": 122,
     "metadata": {},
     "output_type": "execute_result"
    }
   ],
   "source": [
    "A[3]   # Select the element at the 2nd index 3"
   ]
  },
  {
   "cell_type": "code",
   "execution_count": 123,
   "id": "4f57a2e1",
   "metadata": {},
   "outputs": [
    {
     "data": {
      "text/plain": [
       "3.0"
      ]
     },
     "execution_count": 123,
     "metadata": {},
     "output_type": "execute_result"
    }
   ],
   "source": [
    "B[1,3] #Select the element at row 1 column 2 (equivalent to b[1][2])"
   ]
  },
  {
   "cell_type": "raw",
   "id": "a0eb11b7",
   "metadata": {},
   "source": [
    "# Slicing"
   ]
  },
  {
   "cell_type": "code",
   "execution_count": 124,
   "id": "98ec581c",
   "metadata": {},
   "outputs": [
    {
     "data": {
      "text/plain": [
       "array([3, 4, 5])"
      ]
     },
     "execution_count": 124,
     "metadata": {},
     "output_type": "execute_result"
    }
   ],
   "source": [
    "A[0:3]      #Select items at index 0 and 1"
   ]
  },
  {
   "cell_type": "code",
   "execution_count": 125,
   "id": "a5b39000",
   "metadata": {},
   "outputs": [
    {
     "data": {
      "text/plain": [
       "array([5., 6.])"
      ]
     },
     "execution_count": 125,
     "metadata": {},
     "output_type": "execute_result"
    }
   ],
   "source": [
    "B[0:3,2]     #Select items at rows 0 and 1 in column 1"
   ]
  },
  {
   "cell_type": "code",
   "execution_count": 126,
   "id": "4829088d",
   "metadata": {},
   "outputs": [
    {
     "data": {
      "text/plain": [
       "array([[ 2.,  4.,  5., 70.],\n",
       "       [94.,  5.,  6.,  3.]])"
      ]
     },
     "execution_count": 126,
     "metadata": {},
     "output_type": "execute_result"
    }
   ],
   "source": [
    "B[:3]      #Select all items at row 0 (equivalent to b[0:1, :])"
   ]
  },
  {
   "cell_type": "code",
   "execution_count": 127,
   "id": "5da83d3e",
   "metadata": {},
   "outputs": [
    {
     "data": {
      "text/plain": [
       "array([94.,  5.,  6.,  3.])"
      ]
     },
     "execution_count": 127,
     "metadata": {},
     "output_type": "execute_result"
    }
   ],
   "source": [
    "B[1,...]    #Same as [1,:,:]"
   ]
  },
  {
   "cell_type": "code",
   "execution_count": 128,
   "id": "6035cead",
   "metadata": {},
   "outputs": [
    {
     "data": {
      "text/plain": [
       "array([[94.,  5.,  6.,  3.],\n",
       "       [ 2.,  4.,  5., 70.]])"
      ]
     },
     "execution_count": 128,
     "metadata": {},
     "output_type": "execute_result"
    }
   ],
   "source": [
    "B[ : :-1] #Reversed array a array([3, 2, 1])"
   ]
  },
  {
   "cell_type": "raw",
   "id": "86ba38f0",
   "metadata": {},
   "source": [
    "# Fancy Indexing"
   ]
  },
  {
   "cell_type": "code",
   "execution_count": 129,
   "id": "922f80e9",
   "metadata": {},
   "outputs": [
    {
     "data": {
      "text/plain": [
       "array([94.,  4., 70.,  2.])"
      ]
     },
     "execution_count": 129,
     "metadata": {},
     "output_type": "execute_result"
    }
   ],
   "source": [
    "B[[1, 0, 0, 0],[0, 1, 3, 0]] #Select elements (1,0),(0,1),(1,2) and (0,0)"
   ]
  },
  {
   "cell_type": "code",
   "execution_count": 130,
   "id": "a75137e3",
   "metadata": {},
   "outputs": [
    {
     "data": {
      "text/plain": [
       "array([[94.,  5.,  6., 94.],\n",
       "       [ 2.,  4.,  5.,  2.],\n",
       "       [94.,  5.,  6., 94.],\n",
       "       [ 2.,  4.,  5.,  2.]])"
      ]
     },
     "execution_count": 130,
     "metadata": {},
     "output_type": "execute_result"
    }
   ],
   "source": [
    "B[[1, 0, 1, 0]][:,[0,1,2,0]] #Select a subset of the matrix’s rows and columns"
   ]
  },
  {
   "cell_type": "raw",
   "id": "2d73417d",
   "metadata": {},
   "source": [
    "# Transposing Array"
   ]
  },
  {
   "cell_type": "code",
   "execution_count": 131,
   "id": "39a1c6af",
   "metadata": {},
   "outputs": [
    {
     "name": "stdout",
     "output_type": "stream",
     "text": [
      "[[ 2. 94.]\n",
      " [ 4.  5.]\n",
      " [ 5.  6.]\n",
      " [70.  3.]]\n"
     ]
    }
   ],
   "source": [
    "i = np.transpose(B)          #Permute array dimension\n",
    "print(i)"
   ]
  },
  {
   "cell_type": "code",
   "execution_count": 132,
   "id": "c1659eee",
   "metadata": {},
   "outputs": [
    {
     "data": {
      "text/plain": [
       "array([[ 2.,  4.,  5., 70.],\n",
       "       [94.,  5.,  6.,  3.]])"
      ]
     },
     "execution_count": 132,
     "metadata": {},
     "output_type": "execute_result"
    }
   ],
   "source": [
    "i.T                          #Permute array dimensions"
   ]
  },
  {
   "cell_type": "raw",
   "id": "e6e6cf78",
   "metadata": {},
   "source": [
    "# Changing Array Shape"
   ]
  },
  {
   "cell_type": "code",
   "execution_count": 133,
   "id": "18b92305",
   "metadata": {},
   "outputs": [
    {
     "data": {
      "text/plain": [
       "array([ 2.,  4.,  5., 70., 94.,  5.,  6.,  3.])"
      ]
     },
     "execution_count": 133,
     "metadata": {},
     "output_type": "execute_result"
    }
   ],
   "source": [
    "B.ravel()                    #Flatten the array"
   ]
  },
  {
   "cell_type": "code",
   "execution_count": 134,
   "id": "208dd906",
   "metadata": {},
   "outputs": [
    {
     "data": {
      "text/plain": [
       "array([[  1.,   0.],\n",
       "       [  0., -64.],\n",
       "       [-91.,  -1.],\n",
       "       [ -1.,   3.]])"
      ]
     },
     "execution_count": 134,
     "metadata": {},
     "output_type": "execute_result"
    }
   ],
   "source": [
    "G.reshape(4,-2)              #Reshape, but don’t change data"
   ]
  },
  {
   "cell_type": "raw",
   "id": "036a7845",
   "metadata": {},
   "source": [
    "# Adding/Removing Elements"
   ]
  },
  {
   "cell_type": "code",
   "execution_count": 135,
   "id": "e70f962a",
   "metadata": {},
   "outputs": [],
   "source": [
    "f.resize((2,6))              #Return a new array with shape (2,6)"
   ]
  },
  {
   "cell_type": "code",
   "execution_count": 136,
   "id": "0b735a09",
   "metadata": {},
   "outputs": [
    {
     "data": {
      "text/plain": [
       "array([  3.,   4.,   5.,   6.,   0.,   0.,   0.,   0.,   0.,   0.,   0.,\n",
       "         0.,   1.,   0.,   0., -64., -91.,  -1.,  -1.,   3.])"
      ]
     },
     "execution_count": 136,
     "metadata": {},
     "output_type": "execute_result"
    }
   ],
   "source": [
    "np.append(f,G)               #Append items to an array"
   ]
  },
  {
   "cell_type": "code",
   "execution_count": 137,
   "id": "6eb6eb85",
   "metadata": {},
   "outputs": [
    {
     "data": {
      "text/plain": [
       "array([3, 5, 4, 5, 6])"
      ]
     },
     "execution_count": 137,
     "metadata": {},
     "output_type": "execute_result"
    }
   ],
   "source": [
    "np.insert(A, 1, 5)           #Insert items in an array"
   ]
  },
  {
   "cell_type": "code",
   "execution_count": 138,
   "id": "25ab4893",
   "metadata": {},
   "outputs": [
    {
     "data": {
      "text/plain": [
       "array([ 2.,  5., 70., 94.,  5.,  6.,  3.])"
      ]
     },
     "execution_count": 138,
     "metadata": {},
     "output_type": "execute_result"
    }
   ],
   "source": [
    "np.delete(B,[1])             #Delete items from an array"
   ]
  },
  {
   "cell_type": "raw",
   "id": "1510b2f2",
   "metadata": {},
   "source": [
    "# Combining Arrays"
   ]
  },
  {
   "cell_type": "code",
   "execution_count": 139,
   "id": "9bd8d480",
   "metadata": {},
   "outputs": [],
   "source": [
    "a=np.array([3,4,5,6])\n",
    "b=np.array([3,2,5,8])"
   ]
  },
  {
   "cell_type": "code",
   "execution_count": 140,
   "id": "4586e894",
   "metadata": {},
   "outputs": [
    {
     "data": {
      "text/plain": [
       "array([3, 4, 5, 6, 3, 2, 5, 8])"
      ]
     },
     "execution_count": 140,
     "metadata": {},
     "output_type": "execute_result"
    }
   ],
   "source": [
    "np.concatenate((a,b),axis=0) #Concatenate array      "
   ]
  },
  {
   "cell_type": "code",
   "execution_count": 141,
   "id": "cbcf9fae",
   "metadata": {},
   "outputs": [
    {
     "data": {
      "text/plain": [
       "array([[3, 4, 5, 6],\n",
       "       [3, 2, 5, 8]])"
      ]
     },
     "execution_count": 141,
     "metadata": {},
     "output_type": "execute_result"
    }
   ],
   "source": [
    "np.vstack((a,b))             #Stack arrays vertically (row-wise)"
   ]
  },
  {
   "cell_type": "code",
   "execution_count": 142,
   "id": "2413d179",
   "metadata": {},
   "outputs": [
    {
     "data": {
      "text/plain": [
       "array([3, 4, 5, 6, 3, 2, 5, 8])"
      ]
     },
     "execution_count": 142,
     "metadata": {},
     "output_type": "execute_result"
    }
   ],
   "source": [
    "np.r_[a,b]                   #Stack arrays vertically (row-wise)"
   ]
  },
  {
   "cell_type": "code",
   "execution_count": 143,
   "id": "78930471",
   "metadata": {},
   "outputs": [
    {
     "data": {
      "text/plain": [
       "array([3, 4, 5, 6, 3, 2, 5, 8])"
      ]
     },
     "execution_count": 143,
     "metadata": {},
     "output_type": "execute_result"
    }
   ],
   "source": [
    "\n",
    "np.hstack((a,b))             #Stack arrays horizontally (column-wise)"
   ]
  },
  {
   "cell_type": "code",
   "execution_count": 144,
   "id": "d8ac5db4",
   "metadata": {},
   "outputs": [
    {
     "name": "stdout",
     "output_type": "stream",
     "text": [
      "[[3 3]\n",
      " [4 2]\n",
      " [5 5]\n",
      " [6 8]]\n"
     ]
    }
   ],
   "source": [
    "v=np.column_stack((a,b))       #Create stacked column-wise arrays\n",
    "print(v)"
   ]
  },
  {
   "cell_type": "code",
   "execution_count": 145,
   "id": "177bc8cb",
   "metadata": {},
   "outputs": [
    {
     "data": {
      "text/plain": [
       "array([[3, 3],\n",
       "       [4, 2],\n",
       "       [5, 5],\n",
       "       [6, 8]])"
      ]
     },
     "execution_count": 145,
     "metadata": {},
     "output_type": "execute_result"
    }
   ],
   "source": [
    "np.c_[a,b]                   #Create stacked column-wise arrays"
   ]
  },
  {
   "cell_type": "raw",
   "id": "8e2948fc",
   "metadata": {},
   "source": [
    "# Splitting Arrays"
   ]
  },
  {
   "cell_type": "code",
   "execution_count": 146,
   "id": "71daf9f0",
   "metadata": {},
   "outputs": [
    {
     "data": {
      "text/plain": [
       "[array([3, 4]), array([5, 6])]"
      ]
     },
     "execution_count": 146,
     "metadata": {},
     "output_type": "execute_result"
    }
   ],
   "source": [
    "np.hsplit(a,2)               #Split the array horizontally at the 3rd index"
   ]
  },
  {
   "cell_type": "code",
   "execution_count": 147,
   "id": "ffef1c17",
   "metadata": {},
   "outputs": [
    {
     "data": {
      "text/plain": [
       "[array([[3, 3],\n",
       "        [4, 2]]),\n",
       " array([[5, 5],\n",
       "        [6, 8]])]"
      ]
     },
     "execution_count": 147,
     "metadata": {},
     "output_type": "execute_result"
    }
   ],
   "source": [
    "np.vsplit(v,2)               #Split the array vertically at the 2nd index"
   ]
  },
  {
   "cell_type": "code",
   "execution_count": null,
   "id": "9514fcec",
   "metadata": {},
   "outputs": [],
   "source": []
  },
  {
   "cell_type": "code",
   "execution_count": null,
   "id": "cc8dbc6e",
   "metadata": {},
   "outputs": [],
   "source": []
  },
  {
   "cell_type": "code",
   "execution_count": null,
   "id": "ccc4848a",
   "metadata": {},
   "outputs": [],
   "source": []
  }
 ],
 "metadata": {
  "kernelspec": {
   "display_name": "Python 3",
   "language": "python",
   "name": "python3"
  },
  "language_info": {
   "codemirror_mode": {
    "name": "ipython",
    "version": 3
   },
   "file_extension": ".py",
   "mimetype": "text/x-python",
   "name": "python",
   "nbconvert_exporter": "python",
   "pygments_lexer": "ipython3",
   "version": "3.8.8"
  }
 },
 "nbformat": 4,
 "nbformat_minor": 5
}
