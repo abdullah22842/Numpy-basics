{
  "nbformat": 4,
  "nbformat_minor": 0,
  "metadata": {
    "colab": {
      "name": "YOLOv4.ipynb",
      "provenance": [],
      "include_colab_link": true
    },
    "kernelspec": {
      "name": "python3",
      "display_name": "Python 3"
    },
    "accelerator": "GPU"
  },
  "cells": [
    {
      "cell_type": "markdown",
      "metadata": {
        "id": "view-in-github",
        "colab_type": "text"
      },
      "source": [
        "<a href=\"https://colab.research.google.com/github/abdullah22842/Numpy-basics/blob/main/YOLOv4.ipynb\" target=\"_parent\"><img src=\"https://colab.research.google.com/assets/colab-badge.svg\" alt=\"Open In Colab\"/></a>"
      ]
    },
    {
      "cell_type": "code",
      "metadata": {
        "id": "5uloUwmUKF05",
        "colab": {
          "base_uri": "https://localhost:8080/"
        },
        "outputId": "3ab8cd5c-b627-478e-8ded-fb17c6c6bb0c"
      },
      "source": [
        "# verify CUDA\n",
        "!/usr/local/cuda/bin/nvcc --version"
      ],
      "execution_count": 1,
      "outputs": [
        {
          "output_type": "stream",
          "name": "stdout",
          "text": [
            "nvcc: NVIDIA (R) Cuda compiler driver\n",
            "Copyright (c) 2005-2020 NVIDIA Corporation\n",
            "Built on Mon_Oct_12_20:09:46_PDT_2020\n",
            "Cuda compilation tools, release 11.1, V11.1.105\n",
            "Build cuda_11.1.TC455_06.29190527_0\n"
          ]
        }
      ]
    },
    {
      "cell_type": "code",
      "metadata": {
        "id": "ucOr-01xMikW",
        "colab": {
          "base_uri": "https://localhost:8080/"
        },
        "outputId": "64b580b4-3f39-4c8b-8906-147466b1e1d8"
      },
      "source": [
        "#take a look at the kind of GPU we have\n",
        "!nvidia-smi"
      ],
      "execution_count": 2,
      "outputs": [
        {
          "output_type": "stream",
          "name": "stdout",
          "text": [
            "Thu Dec  9 07:58:54 2021       \n",
            "+-----------------------------------------------------------------------------+\n",
            "| NVIDIA-SMI 495.44       Driver Version: 460.32.03    CUDA Version: 11.2     |\n",
            "|-------------------------------+----------------------+----------------------+\n",
            "| GPU  Name        Persistence-M| Bus-Id        Disp.A | Volatile Uncorr. ECC |\n",
            "| Fan  Temp  Perf  Pwr:Usage/Cap|         Memory-Usage | GPU-Util  Compute M. |\n",
            "|                               |                      |               MIG M. |\n",
            "|===============================+======================+======================|\n",
            "|   0  Tesla K80           Off  | 00000000:00:04.0 Off |                    0 |\n",
            "| N/A   71C    P8    33W / 149W |      0MiB / 11441MiB |      0%      Default |\n",
            "|                               |                      |                  N/A |\n",
            "+-------------------------------+----------------------+----------------------+\n",
            "                                                                               \n",
            "+-----------------------------------------------------------------------------+\n",
            "| Processes:                                                                  |\n",
            "|  GPU   GI   CI        PID   Type   Process name                  GPU Memory |\n",
            "|        ID   ID                                                   Usage      |\n",
            "|=============================================================================|\n",
            "|  No running processes found                                                 |\n",
            "+-----------------------------------------------------------------------------+\n"
          ]
        }
      ]
    },
    {
      "cell_type": "markdown",
      "metadata": {
        "id": "16pvdFMa1FEe"
      },
      "source": [
        "# Installing Darknet for YOLOv4 on Colab\n",
        "\n",
        "\n"
      ]
    },
    {
      "cell_type": "code",
      "metadata": {
        "id": "ifdq_2rCMsUv",
        "colab": {
          "base_uri": "https://localhost:8080/"
        },
        "outputId": "48f487e5-bc98-46bb-b4c0-01aa97c1607a"
      },
      "source": [
        "%cd /content/\n",
        "%rm -rf darknet"
      ],
      "execution_count": 27,
      "outputs": [
        {
          "output_type": "stream",
          "name": "stdout",
          "text": [
            "/content\n"
          ]
        }
      ]
    },
    {
      "cell_type": "code",
      "metadata": {
        "id": "68eMertgIxaB",
        "colab": {
          "base_uri": "https://localhost:8080/"
        },
        "outputId": "2436904f-c0fa-4a27-938d-dd95b64d0dd5"
      },
      "source": [
        "# clone darknet repo\n",
        "!git clone https://github.com/AlexeyAB/darknet"
      ],
      "execution_count": 34,
      "outputs": [
        {
          "output_type": "stream",
          "name": "stdout",
          "text": [
            "Cloning into 'darknet'...\n",
            "remote: Enumerating objects: 15376, done.\u001b[K\n",
            "remote: Total 15376 (delta 0), reused 0 (delta 0), pack-reused 15376\u001b[K\n",
            "Receiving objects: 100% (15376/15376), 13.98 MiB | 18.29 MiB/s, done.\n",
            "Resolving deltas: 100% (10341/10341), done.\n"
          ]
        }
      ]
    },
    {
      "cell_type": "code",
      "source": [
        "pwd"
      ],
      "metadata": {
        "id": "Z09F4WvWXS0y",
        "outputId": "283e61c0-140b-438b-df81-2c28a7d15881",
        "colab": {
          "base_uri": "https://localhost:8080/",
          "height": 35
        }
      },
      "execution_count": 35,
      "outputs": [
        {
          "output_type": "execute_result",
          "data": {
            "application/vnd.google.colaboratory.intrinsic+json": {
              "type": "string"
            },
            "text/plain": [
              "'/content'"
            ]
          },
          "metadata": {},
          "execution_count": 35
        }
      ]
    },
    {
      "cell_type": "code",
      "metadata": {
        "id": "xym8_m8CIyXK",
        "colab": {
          "base_uri": "https://localhost:8080/"
        },
        "outputId": "61292311-cece-43a8-ea9c-c34eea8dc64b"
      },
      "source": [
        "# change makefile to have GPU and OPENCV enabled\n",
        "%cd darknet\n",
        "!sed -i 's/OPENCV=0/OPENCV=1/' Makefile\n",
        "!sed -i 's/GPU=0/GPU=1/' Makefile\n",
        "!sed -i 's/CUDNN=0/CUDNN=1/' Makefile\n",
        "!sed -i 's/CUDNN_HALF=0/CUDNN_HALF=1/' Makefile\n",
        "!sed -i 's/LIBSO=0/LIBSO=1/' Makefile\n",
        "!sed -i 's/AVX=0/AVX=1/' Makefile\n",
        "!sed -i 's/OPENMP=0/OPENMP=1/' Makefile"
      ],
      "execution_count": 36,
      "outputs": [
        {
          "output_type": "stream",
          "name": "stdout",
          "text": [
            "/content/darknet\n"
          ]
        }
      ]
    },
    {
      "cell_type": "markdown",
      "metadata": {
        "id": "7FS9Fd4-Yi8-"
      },
      "source": [
        "**IMPORTANT! If you're not using a K80 GPU, then uncomment the sed command and replace the arch and code with that matching your GPU. A list can be found [here](http://arnon.dk/matching-sm-architectures-arch-and-gencode-for-various-nvidia-cards/).**"
      ]
    },
    {
      "cell_type": "code",
      "metadata": {
        "id": "QyMBDkaL-Aep"
      },
      "source": [
        "#install environment from the Makefile\n",
        "#%cd darknet/\n",
        "# compute_30, sm_30 for Tesla K80\n",
        "# compute_75, sm_75 for Tesla T4\n",
        "!sed -i 's/ARCH= -gencode arch=compute_60,code=sm_60/ARCH= -gencode arch=compute_30,code=sm_30/g' Makefile\n",
        "\n",
        "#install environment from the Makefile\n",
        "#note if you are on Colab Pro this works on a P100 GPU\n",
        "#if you are on Colab free, you may need to change the Makefile for the K80 GPU\n",
        "#this goes for any GPU, you need to change the Makefile to inform darknet which GPU you are running on.\n",
        "!make"
      ],
      "execution_count": null,
      "outputs": []
    },
    {
      "cell_type": "markdown",
      "metadata": {
        "id": "a7_yikWWhqCi"
      },
      "source": [
        "## Clone a helper repo\n",
        "It makes training the medical mask detecting model easy.\n",
        "In order to train on your own data, this repo can be used as a blueprint. \n",
        "Changes to some files need to be made according to own data, but it is nothing complicated."
      ]
    },
    {
      "cell_type": "code",
      "metadata": {
        "id": "Qs8vZ5uK7Ry9",
        "colab": {
          "base_uri": "https://localhost:8080/"
        },
        "outputId": "14799b79-56ef-4f14-ecb3-3b09c520bf2f"
      },
      "source": [
        "repo_url = 'https://github.com/GotG/yolotinyv3_medmask_demo'\n",
        "import os\n",
        "%cd /content\n",
        "repo_dir_path = os.path.abspath(os.path.join('.', os.path.basename(repo_url)))\n",
        "!git clone {repo_url}\n",
        "%cd {repo_dir_path}\n"
      ],
      "execution_count": 7,
      "outputs": [
        {
          "output_type": "stream",
          "name": "stdout",
          "text": [
            "/content\n",
            "Cloning into 'yolotinyv3_medmask_demo'...\n",
            "remote: Enumerating objects: 1733, done.\u001b[K\n",
            "remote: Counting objects: 100% (20/20), done.\u001b[K\n",
            "remote: Compressing objects: 100% (3/3), done.\u001b[K\n",
            "remote: Total 1733 (delta 17), reused 17 (delta 17), pack-reused 1713\u001b[K\n",
            "Receiving objects: 100% (1733/1733), 208.88 MiB | 32.01 MiB/s, done.\n",
            "Resolving deltas: 100% (120/120), done.\n",
            "Checking out files: 100% (1537/1537), done.\n",
            "/content/yolotinyv3_medmask_demo\n"
          ]
        }
      ]
    },
    {
      "cell_type": "code",
      "metadata": {
        "id": "FzoJQQw8Zdco"
      },
      "source": [
        "#define utility function\n",
        "def imShow(path):\n",
        "  import cv2\n",
        "  import matplotlib.pyplot as plt\n",
        "  %matplotlib inline\n",
        "\n",
        "  image = cv2.imread(path)\n",
        "  height, width = image.shape[:2]\n",
        "  resized_image = cv2.resize(image,(3*width, 3*height), interpolation = cv2.INTER_CUBIC)\n",
        "\n",
        "  fig = plt.gcf()\n",
        "  fig.set_size_inches(18, 10)\n",
        "  plt.axis(\"off\")\n",
        "  #plt.rcParams['figure.figsize'] = [10, 5]\n",
        "  plt.imshow(cv2.cvtColor(resized_image, cv2.COLOR_BGR2RGB))\n",
        "  plt.show()"
      ],
      "execution_count": 8,
      "outputs": []
    },
    {
      "cell_type": "markdown",
      "metadata": {
        "id": "94rKAaMmrHvm"
      },
      "source": [
        "## Change the labels in obj.names to our current labels"
      ]
    },
    {
      "cell_type": "markdown",
      "metadata": {
        "id": "QmsQt5L5uETj"
      },
      "source": [
        "## Change the number of classes in obj.data.\n",
        "The paths are relative so no change there as long as the folder/file structure/names are not changed."
      ]
    },
    {
      "cell_type": "markdown",
      "metadata": {
        "id": "CUaW_i1UL0Pp"
      },
      "source": [
        "## Start the model training"
      ]
    },
    {
      "cell_type": "markdown",
      "metadata": {
        "id": "VxIm51pFoUQO"
      },
      "source": [
        "## Run detection on an image. I choose one of the test images from test.txt"
      ]
    },
    {
      "cell_type": "code",
      "source": [
        "cd .."
      ],
      "metadata": {
        "colab": {
          "base_uri": "https://localhost:8080/"
        },
        "id": "KhW69ncoRX8L",
        "outputId": "9ef8e790-b433-482f-908a-3d4d9d76e142"
      },
      "execution_count": null,
      "outputs": [
        {
          "output_type": "stream",
          "name": "stdout",
          "text": [
            "/content\n"
          ]
        }
      ]
    },
    {
      "cell_type": "code",
      "source": [
        "cd darknet"
      ],
      "metadata": {
        "colab": {
          "base_uri": "https://localhost:8080/"
        },
        "id": "4XkGG8oIRhSd",
        "outputId": "46c7073e-3281-468f-bf3d-ca6856e36456"
      },
      "execution_count": null,
      "outputs": [
        {
          "output_type": "stream",
          "name": "stdout",
          "text": [
            "/content/darknet\n"
          ]
        }
      ]
    },
    {
      "cell_type": "code",
      "metadata": {
        "id": "RRI2S26nsNzM",
        "colab": {
          "base_uri": "https://localhost:8080/"
        },
        "outputId": "6a8e70b0-decf-406e-af86-2a0d4b15b318"
      },
      "source": [
        "!./darknet detector test /content/obj.data  /content/yolov4-tiny-custom.cfg  \"/content/yolov4-tiny-custom_last.weights\" /content/b.jpg -ext_output"
      ],
      "execution_count": null,
      "outputs": [
        {
          "output_type": "stream",
          "name": "stdout",
          "text": [
            "CUDA status Error: file: ./src/dark_cuda.c : () : line: 38 : build time: Dec  9 2021 - 07:28:56 \n",
            "\n",
            " CUDA Error: no CUDA-capable device is detected\n",
            "Darknet error location: ./src/dark_cuda.c, check_error, line #69\n",
            "CUDA Error: no CUDA-capable device is detected: Bad file descriptor\n"
          ]
        }
      ]
    },
    {
      "cell_type": "markdown",
      "metadata": {
        "id": "AoxKr73dgd3i"
      },
      "source": [
        "# Step 7: Running YOLOv4 on Video in the Cloud!\n",
        "\n",
        "You can also run YOLOv4 object detections on video in your Google Colab VM. Follow the cells below to see how to run videos from your local machine or from your Google Drive! "
      ]
    },
    {
      "cell_type": "code",
      "source": [
        "%cd /content/darknet"
      ],
      "metadata": {
        "colab": {
          "base_uri": "https://localhost:8080/"
        },
        "id": "20aYBws0Np5n",
        "outputId": "313e267d-bf95-4c4f-a67a-6a8d5544348f"
      },
      "execution_count": 11,
      "outputs": [
        {
          "output_type": "stream",
          "name": "stdout",
          "text": [
            "/content/darknet\n"
          ]
        }
      ]
    },
    {
      "cell_type": "markdown",
      "metadata": {
        "id": "RSVop1HHkFOo"
      },
      "source": [
        "## Local Machine Video\n",
        "Here is how to upload video from local machine, run detector and then download video showing detections."
      ]
    },
    {
      "cell_type": "code",
      "metadata": {
        "id": "Lgf-ZUbqbb4K"
      },
      "source": [
        "!./darknet detector demo /content/obj.data  /content/yolov4-tiny-custom.cfg  \"/content/yolov4-tiny-custom_last.weights\" -dont_show /content/baseball_6.mp4 -i 0 -out_filename results/output.mp4"
      ],
      "execution_count": null,
      "outputs": []
    },
    {
      "cell_type": "code",
      "source": [
        "cd darknet"
      ],
      "metadata": {
        "colab": {
          "base_uri": "https://localhost:8080/"
        },
        "id": "B-GKX35WK_pb",
        "outputId": "202a7fbf-ea6b-4d84-8ac6-e3944b39f126"
      },
      "execution_count": null,
      "outputs": [
        {
          "output_type": "stream",
          "name": "stdout",
          "text": [
            "[Errno 20] Not a directory: 'darknet'\n",
            "/content/darknet/darknet\n"
          ]
        }
      ]
    },
    {
      "cell_type": "code",
      "metadata": {
        "id": "fkPm6t6yj6Ky",
        "colab": {
          "base_uri": "https://localhost:8080/",
          "height": 208
        },
        "outputId": "3465ba4f-2aab-4e08-f6e7-1933f83d5d3a"
      },
      "source": [
        "# download the video with detections shown\n",
        "from google.colab import files\n",
        "\n",
        "download(result/result.mp4)"
      ],
      "execution_count": null,
      "outputs": [
        {
          "output_type": "error",
          "ename": "NameError",
          "evalue": "ignored",
          "traceback": [
            "\u001b[0;31m---------------------------------------------------------------------------\u001b[0m",
            "\u001b[0;31mNameError\u001b[0m                                 Traceback (most recent call last)",
            "\u001b[0;32m<ipython-input-47-d8d629797f41>\u001b[0m in \u001b[0;36m<module>\u001b[0;34m()\u001b[0m\n\u001b[1;32m      2\u001b[0m \u001b[0;32mfrom\u001b[0m \u001b[0mgoogle\u001b[0m\u001b[0;34m.\u001b[0m\u001b[0mcolab\u001b[0m \u001b[0;32mimport\u001b[0m \u001b[0mfiles\u001b[0m\u001b[0;34m\u001b[0m\u001b[0;34m\u001b[0m\u001b[0m\n\u001b[1;32m      3\u001b[0m \u001b[0;34m\u001b[0m\u001b[0m\n\u001b[0;32m----> 4\u001b[0;31m \u001b[0mdownload\u001b[0m\u001b[0;34m(\u001b[0m\u001b[0mresult\u001b[0m\u001b[0;34m/\u001b[0m\u001b[0mresult\u001b[0m\u001b[0;34m.\u001b[0m\u001b[0mmp4\u001b[0m\u001b[0;34m)\u001b[0m\u001b[0;34m\u001b[0m\u001b[0;34m\u001b[0m\u001b[0m\n\u001b[0m",
            "\u001b[0;31mNameError\u001b[0m: name 'download' is not defined"
          ]
        }
      ]
    },
    {
      "cell_type": "code",
      "source": [
        "pwd"
      ],
      "metadata": {
        "colab": {
          "base_uri": "https://localhost:8080/",
          "height": 35
        },
        "id": "VzdWGFkNR9BI",
        "outputId": "9afbb5f9-c9f9-4383-c168-f27231b90987"
      },
      "execution_count": 72,
      "outputs": [
        {
          "output_type": "execute_result",
          "data": {
            "application/vnd.google.colaboratory.intrinsic+json": {
              "type": "string"
            },
            "text/plain": [
              "'/content/darknet'"
            ]
          },
          "metadata": {},
          "execution_count": 72
        }
      ]
    },
    {
      "cell_type": "code",
      "source": [
        "%cd /darknet"
      ],
      "metadata": {
        "id": "RsYCpdfbX3By",
        "outputId": "6b721a28-471a-41c0-fa75-a9cf73f883c4",
        "colab": {
          "base_uri": "https://localhost:8080/"
        }
      },
      "execution_count": 71,
      "outputs": [
        {
          "output_type": "stream",
          "name": "stdout",
          "text": [
            "[Errno 2] No such file or directory: '/darknet'\n",
            "/content/darknet\n"
          ]
        }
      ]
    },
    {
      "cell_type": "code",
      "source": [
        "da=\"/content/darknet/darknet.py\""
      ],
      "metadata": {
        "id": "yj7RpyYYbDcy"
      },
      "execution_count": 67,
      "outputs": []
    },
    {
      "cell_type": "code",
      "source": [
        "import os\n",
        "from da import performDetect as scan #calling 'performDetect' function from darknet.py"
      ],
      "metadata": {
        "id": "7_6PFQ6jZSeq",
        "outputId": "80add5b3-3341-4050-fecc-4efb83294f78",
        "colab": {
          "base_uri": "https://localhost:8080/",
          "height": 335
        }
      },
      "execution_count": 68,
      "outputs": [
        {
          "output_type": "error",
          "ename": "ModuleNotFoundError",
          "evalue": "ignored",
          "traceback": [
            "\u001b[0;31m---------------------------------------------------------------------------\u001b[0m",
            "\u001b[0;31mModuleNotFoundError\u001b[0m                       Traceback (most recent call last)",
            "\u001b[0;32m<ipython-input-68-a580bd996c7b>\u001b[0m in \u001b[0;36m<module>\u001b[0;34m()\u001b[0m\n\u001b[1;32m      1\u001b[0m \u001b[0;32mimport\u001b[0m \u001b[0mos\u001b[0m\u001b[0;34m\u001b[0m\u001b[0;34m\u001b[0m\u001b[0m\n\u001b[0;32m----> 2\u001b[0;31m \u001b[0;32mfrom\u001b[0m \u001b[0ma\u001b[0m \u001b[0;32mimport\u001b[0m \u001b[0mperformDetect\u001b[0m \u001b[0;32mas\u001b[0m \u001b[0mscan\u001b[0m \u001b[0;31m#calling 'performDetect' function from darknet.py\u001b[0m\u001b[0;34m\u001b[0m\u001b[0;34m\u001b[0m\u001b[0m\n\u001b[0m",
            "\u001b[0;31mModuleNotFoundError\u001b[0m: No module named 'a'",
            "",
            "\u001b[0;31m---------------------------------------------------------------------------\u001b[0;32m\nNOTE: If your import is failing due to a missing package, you can\nmanually install dependencies using either !pip or !apt.\n\nTo view examples of installing some common dependencies, click the\n\"Open Examples\" button below.\n\u001b[0;31m---------------------------------------------------------------------------\u001b[0m\n"
          ],
          "errorDetails": {
            "actions": [
              {
                "action": "open_url",
                "actionText": "Open Examples",
                "url": "/notebooks/snippets/importing_libraries.ipynb"
              }
            ]
          }
        }
      ]
    },
    {
      "cell_type": "code",
      "source": [
        "\n",
        "\n",
        "def detect(str):\n",
        "    ''' this script if you want only want get the coord '''\n",
        "    picpath = str\n",
        "    cfg='/content/yolov4-tiny-custom.cfg' #change this if you want use different config\n",
        "    coco='/content/obj.data' #you can change this too\n",
        "    data='/content/yolov4-tiny-custom_last.weights' #and this, can be change by you\n",
        "    test = scan(imagePath=picpath, thresh=0.25, configPath=cfg, weightPath=data, metaPath=coco, showImage=False, makeImageOnly=False, initOnly=False) #default format, i prefer only call the result not to produce image to get more performance\n",
        "\n",
        "    #until here you will get some data in default mode from alexeyAB, as explain in module.\n",
        "    #try to: help(scan), explain about the result format of process is: [(item_name, convidence_rate (x_center_image, y_center_image, width_size_box, height_size_of_box))], \n",
        "    #to change it with generally used form, like PIL/opencv, do like this below (still in detect function that we create):\n",
        "\n",
        "    newdata = []\n",
        "    if len(test) >=2:\n",
        "        for x in test:\n",
        "            item, confidence_rate, imagedata = x\n",
        "            x1, y1, w_size, h_size = imagedata\n",
        "            x_start = round(x1 - (w_size/2))\n",
        "            y_start = round(y1 - (h_size/2))\n",
        "            x_end = round(x_start + w_size)\n",
        "            y_end = round(y_start + h_size)\n",
        "            data = (item, confidence_rate, (x_start, y_start, x_end, y_end), w_size, h_size)\n",
        "            newdata.append(data)\n",
        "\n",
        "    elif len(test) == 1:\n",
        "        item, confidence_rate, imagedata = test[0]\n",
        "        x1, y1, w_size, h_size = imagedata\n",
        "        x_start = round(x1 - (w_size/2))\n",
        "        y_start = round(y1 - (h_size/2))\n",
        "        x_end = round(x_start + w_size)\n",
        "        y_end = round(y_start + h_size)\n",
        "        data = (item, confidence_rate, (x_start, y_start, x_end, y_end), w_size, h_size)\n",
        "        newdata.append(data)\n",
        "\n",
        "    else:\n",
        "        newdata = False\n",
        "\n",
        "    return newdata"
      ],
      "metadata": {
        "colab": {
          "base_uri": "https://localhost:8080/",
          "height": 135
        },
        "id": "yh4D2AncR9aY",
        "outputId": "1f4986d3-f384-48f6-9ecc-00b918057363"
      },
      "execution_count": 49,
      "outputs": [
        {
          "output_type": "error",
          "ename": "SyntaxError",
          "evalue": "ignored",
          "traceback": [
            "\u001b[0;36m  File \u001b[0;32m\"<ipython-input-49-67e15db53881>\"\u001b[0;36m, line \u001b[0;32m2\u001b[0m\n\u001b[0;31m    from /content/darknet/darknet.py  import performDetect as scan #calling 'performDetect' function from darknet.py\u001b[0m\n\u001b[0m         ^\u001b[0m\n\u001b[0;31mSyntaxError\u001b[0m\u001b[0;31m:\u001b[0m invalid syntax\n"
          ]
        }
      ]
    },
    {
      "cell_type": "code",
      "source": [
        "table = '/content/51.jpg'\n",
        "checking = detect(table)'"
      ],
      "metadata": {
        "id": "qomt7vOrR9XI"
      },
      "execution_count": null,
      "outputs": []
    },
    {
      "cell_type": "code",
      "source": [
        ""
      ],
      "metadata": {
        "id": "wbQ2l9xOR9To"
      },
      "execution_count": null,
      "outputs": []
    },
    {
      "cell_type": "code",
      "source": [
        ""
      ],
      "metadata": {
        "id": "mpIOrrmSR9O4"
      },
      "execution_count": null,
      "outputs": []
    }
  ]
}